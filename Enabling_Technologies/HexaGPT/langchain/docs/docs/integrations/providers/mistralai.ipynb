{
 "cells": [
  {
   "cell_type": "markdown",
   "metadata": {},
   "source": [
    "# MistralAI\n",
    "\n",
    "Mistral AI is a platform that offers hosting for their powerful open source models.\n",
    "\n",
    "You can access them via their  [API](https://docs.mistral.ai/api/).\n",
    "\n",
    "A valid [API key](https://console.mistral.ai/users/api-keys/) is needed to communicate with the API.\n",
    "\n",
    "You will also need the `langchain-mistralai` package:"
   ]
  },
  {
   "cell_type": "code",
   "execution_count": null,
   "metadata": {},
   "outputs": [],
   "source": [
    "%pip install -qU langchain-core langchain-mistralai"
   ]
  },
  {
   "cell_type": "code",
   "execution_count": 2,
   "metadata": {
    "id": "y8ku6X96sebl"
   },
   "outputs": [],
   "source": [
    "from langchain_mistralai import ChatMistralAI, MistralAIEmbeddings"
   ]
  },
  {
   "cell_type": "markdown",
   "metadata": {},
   "source": [
    "See the docs for their\n",
    "\n",
    "- [Chat Model](/docs/integrations/chat/mistralai)\n",
    "- [Embeddings Model](/docs/integrations/text_embedding/mistralai)"
   ]
  },
  {
   "cell_type": "markdown",
   "metadata": {},
   "source": []
  }
 ],
 "metadata": {
  "colab": {
   "provenance": []
  },
  "kernelspec": {
   "display_name": "Python 3 (ipykernel)",
   "language": "python",
   "name": "python3"
  },
  "language_info": {
   "codemirror_mode": {
    "name": "ipython",
    "version": 3
   },
   "file_extension": ".py",
   "mimetype": "text/x-python",
   "name": "python",
   "nbconvert_exporter": "python",
   "pygments_lexer": "ipython3",
   "version": "3.10.11"
  }
 },
 "nbformat": 4,
 "nbformat_minor": 1
}
