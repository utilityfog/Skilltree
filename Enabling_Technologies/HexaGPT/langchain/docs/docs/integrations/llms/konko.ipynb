{
 "cells": [
  {
   "cell_type": "raw",
   "metadata": {},
   "source": [
    "---\n",
    "sidebar_label: Konko\n",
    "---"
   ]
  },
  {
   "cell_type": "markdown",
   "id": "136d9ba6-c42a-435b-9e19-77ebcc7a3145",
   "metadata": {},
   "source": [
    "# Konko\n",
    "\n",
    ">[Konko](https://www.konko.ai/) API is a fully managed Web API designed to help application developers:\n",
    "\n",
    "1. **Select** the right open source or proprietary LLMs for their application\n",
    "2. **Build** applications faster with integrations to leading application frameworks and fully managed APIs\n",
    "3. **Fine tune** smaller open-source LLMs to achieve industry-leading performance at a fraction of the cost\n",
    "4. **Deploy production-scale APIs** that meet security, privacy, throughput, and latency SLAs without infrastructure set-up or administration using Konko AI's SOC 2 compliant, multi-cloud infrastructure\n"
   ]
  },
  {
   "cell_type": "markdown",
   "id": "0d896d07-82b4-4f38-8c37-f0bc8b0e4fe1",
   "metadata": {},
   "source": [
    "This example goes over how to use LangChain to interact with `Konko` completion [models](https://docs.konko.ai/docs/list-of-models#konko-hosted-models-for-completion)\n",
    "\n",
    "To run this notebook, you'll need Konko API key. Sign in to our web app to [create an API key](https://platform.konko.ai/settings/api-keys) to access models"
   ]
  },
  {
   "cell_type": "markdown",
   "metadata": {},
   "source": [
    "#### Set Environment Variables\n",
    "\n",
    "1. You can set environment variables for \n",
    "   1. KONKO_API_KEY (Required)\n",
    "   2. OPENAI_API_KEY (Optional)\n",
    "2. In your current shell session, use the export command:\n",
    "\n",
    "```shell\n",
    "export KONKO_API_KEY={your_KONKO_API_KEY_here}\n",
    "export OPENAI_API_KEY={your_OPENAI_API_KEY_here} #Optional\n",
    "```"
   ]
  },
  {
   "cell_type": "markdown",
   "metadata": {},
   "source": [
    "## Calling a model\n",
    "\n",
    "Find a model on the [Konko overview page](https://docs.konko.ai/docs/list-of-models)\n",
    "\n",
    "Another way to find the list of models running on the Konko instance is through this [endpoint](https://docs.konko.ai/reference/get-models).\n",
    "\n",
    "From here, we can initialize our model:"
   ]
  },
  {
   "cell_type": "code",
   "execution_count": null,
   "id": "dd70bccb-7a65-42d0-a3f2-8116f3549da7",
   "metadata": {},
   "outputs": [
    {
     "name": "stdout",
     "output_type": "stream",
     "text": [
      "\n",
      "\n",
      "Answer:\n",
      "The Big Bang Theory is a theory that explains the origin of the universe. According to the theory, the universe began with a single point of infinite density and temperature. This point is called the singularity. The singularity exploded and expanded rapidly. The expansion of the universe is still continuing.\n",
      "The Big Bang Theory is a theory that explains the origin of the universe. According to the theory, the universe began with a single point of infinite density and temperature. This point is called the singularity. The singularity exploded and expanded rapidly. The expansion of the universe is still continuing.\n",
      "\n",
      "Question\n"
     ]
    }
   ],
   "source": [
    "from langchain.llms import Konko\n",
    "\n",
    "llm = Konko(model=\"mistralai/mistral-7b-v0.1\", temperature=0.1, max_tokens=128)\n",
    "\n",
    "input_ = \"\"\"You are a helpful assistant. Explain Big Bang Theory briefly.\"\"\"\n",
    "print(llm(input_))"
   ]
  },
  {
   "cell_type": "code",
   "execution_count": null,
   "id": "78148bf7-2211-40b4-93a7-e90139ab1169",
   "metadata": {},
   "outputs": [],
   "source": []
  }
 ],
 "metadata": {
  "kernelspec": {
   "display_name": "Python 3 (ipykernel)",
   "language": "python",
   "name": "python3"
  },
  "language_info": {
   "codemirror_mode": {
    "name": "ipython",
    "version": 3
   },
   "file_extension": ".py",
   "mimetype": "text/x-python",
   "name": "python",
   "nbconvert_exporter": "python",
   "pygments_lexer": "ipython3",
   "version": "3.11.3"
  }
 },
 "nbformat": 4,
 "nbformat_minor": 5
}
